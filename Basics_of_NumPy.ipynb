{
 "cells": [
  {
   "cell_type": "markdown",
   "id": "d957a3e4",
   "metadata": {},
   "source": [
    "#### 1- Create a numpy array of shape (3, 4) and assign random integers between 1 and 10 to every element."
   ]
  },
  {
   "cell_type": "code",
   "execution_count": 1,
   "id": "08cde268",
   "metadata": {},
   "outputs": [],
   "source": [
    "import numpy as np"
   ]
  },
  {
   "cell_type": "code",
   "execution_count": 14,
   "id": "26578c9b",
   "metadata": {},
   "outputs": [
    {
     "name": "stdout",
     "output_type": "stream",
     "text": [
      "[[ 2  9  2 10]\n",
      " [ 7  2  8  9]\n",
      " [ 9  9  9 10]]\n"
     ]
    }
   ],
   "source": [
    "random_arr = np.random.randint(1,11, (3,4))\n",
    "print(random_arr)"
   ]
  },
  {
   "cell_type": "markdown",
   "id": "fd54d483",
   "metadata": {},
   "source": [
    "#### 2- Find the maximum value in the array created in step 1."
   ]
  },
  {
   "cell_type": "code",
   "execution_count": 15,
   "id": "ad7c9cfe",
   "metadata": {},
   "outputs": [
    {
     "name": "stdout",
     "output_type": "stream",
     "text": [
      "Maximum value in array: 10\n"
     ]
    }
   ],
   "source": [
    "max_num = random_arr.max()\n",
    "print(f'Maximum value in array: {max_num}')"
   ]
  },
  {
   "cell_type": "markdown",
   "id": "7f7c75bc",
   "metadata": {},
   "source": [
    "#### 3- Calculate the mean value of each row in the array.\n"
   ]
  },
  {
   "cell_type": "code",
   "execution_count": 21,
   "id": "71852f9a",
   "metadata": {},
   "outputs": [
    {
     "name": "stdout",
     "output_type": "stream",
     "text": [
      "Mean of each row: [5.75 6.5  9.25]\n"
     ]
    }
   ],
   "source": [
    "mean_by_row = np.mean(random_arr, axis = 1)\n",
    "print(f'Mean of each row: {mean_by_row}')\n"
   ]
  },
  {
   "cell_type": "markdown",
   "id": "e39714f4",
   "metadata": {},
   "source": [
    "#### 4- Reshape the array from step 1 into a shape of (2, 6)."
   ]
  },
  {
   "cell_type": "code",
   "execution_count": 23,
   "id": "4a41d546",
   "metadata": {},
   "outputs": [
    {
     "name": "stdout",
     "output_type": "stream",
     "text": [
      "Reshaped array : [[ 2  9  2 10  7  2]\n",
      " [ 8  9  9  9  9 10]]\n"
     ]
    }
   ],
   "source": [
    "new_arr = random_arr.reshape(2,6)\n",
    "print(f'Reshaped array : {new_arr}')"
   ]
  },
  {
   "cell_type": "markdown",
   "id": "0bf8028d",
   "metadata": {},
   "source": [
    "#### 5- Multiply each element in the array by 2."
   ]
  },
  {
   "cell_type": "code",
   "execution_count": 26,
   "id": "d560b296",
   "metadata": {},
   "outputs": [
    {
     "name": "stdout",
     "output_type": "stream",
     "text": [
      "[[ 4 18  4 20]\n",
      " [14  4 16 18]\n",
      " [18 18 18 20]]\n"
     ]
    }
   ],
   "source": [
    "multiply_2 = random_arr*2\n",
    "print(multiply_2)"
   ]
  },
  {
   "cell_type": "markdown",
   "id": "528219ca",
   "metadata": {},
   "source": [
    "#### 6- Create a numpy array with values ranging from 0 to 9. Extract the odd numbers from the array."
   ]
  },
  {
   "cell_type": "code",
   "execution_count": 40,
   "id": "494b55ab",
   "metadata": {},
   "outputs": [
    {
     "data": {
      "text/plain": [
       "array([0, 1, 2, 3, 4, 5, 6, 7, 8, 9])"
      ]
     },
     "execution_count": 40,
     "metadata": {},
     "output_type": "execute_result"
    }
   ],
   "source": [
    "arr = np.arange(10)\n",
    "arr"
   ]
  },
  {
   "cell_type": "code",
   "execution_count": 51,
   "id": "714f8c60",
   "metadata": {},
   "outputs": [
    {
     "name": "stdout",
     "output_type": "stream",
     "text": [
      "odd numbers from array [1 3 5 7 9]\n"
     ]
    }
   ],
   "source": [
    "odd_array = arr[arr % 2 !=0]\n",
    "print(f'Odd numbers from array {odd_array}')"
   ]
  },
  {
   "cell_type": "markdown",
   "id": "6ec0ca29",
   "metadata": {},
   "source": [
    "#### 7- Create a 3x3 identity matrix using numpy."
   ]
  },
  {
   "cell_type": "code",
   "execution_count": 58,
   "id": "35a97cb7",
   "metadata": {},
   "outputs": [
    {
     "name": "stdout",
     "output_type": "stream",
     "text": [
      "[[1. 0. 0.]\n",
      " [0. 1. 0.]\n",
      " [0. 0. 1.]]\n"
     ]
    }
   ],
   "source": [
    "identity_matrix = np.identity(3)\n",
    "print(identity_matrix)"
   ]
  },
  {
   "cell_type": "markdown",
   "id": "d5d65bd6",
   "metadata": {},
   "source": [
    "#### 8- Create a 5x5 array with random values and normalize it (subtract the mean and divide by the standard deviation of the array)."
   ]
  },
  {
   "cell_type": "code",
   "execution_count": 65,
   "id": "8e5578ba",
   "metadata": {},
   "outputs": [
    {
     "name": "stdout",
     "output_type": "stream",
     "text": [
      "Mean of array: 0.10121096968599685 \n",
      " standard deviation of array: 1.0994136914740862\n"
     ]
    }
   ],
   "source": [
    "rand_arr = np.random.randn(5,5)\n",
    "# Mean of array\n",
    "mean_arr = rand_arr.mean()\n",
    "stdv_arr = rand_arr.std()\n",
    "\n",
    "print(f'Mean of array: {mean_arr} \\n standard deviation of array: {stdv_arr}')"
   ]
  },
  {
   "cell_type": "code",
   "execution_count": 67,
   "id": "b46a66f7",
   "metadata": {},
   "outputs": [
    {
     "name": "stdout",
     "output_type": "stream",
     "text": [
      "[[-0.42570063 -0.53700285 -0.13082565 -1.04202881  1.54057695]\n",
      " [ 1.2844183  -0.2403385   0.70894515 -1.51417252  1.51753613]\n",
      " [-0.33153963  1.17148933  0.15392979 -0.72458899  1.27620805]\n",
      " [ 0.94070405  1.01904968 -1.08250725 -1.31244868 -0.18327492]\n",
      " [ 0.21918599 -2.32239511 -0.4166064   0.094999    0.33638751]]\n"
     ]
    }
   ],
   "source": [
    "# Normalization of array \n",
    "normalized_array = (rand_arr-mean_arr)/stdv_arr\n",
    "print(normalized_array)"
   ]
  },
  {
   "cell_type": "markdown",
   "id": "1cb50586",
   "metadata": {},
   "source": [
    "#### 9- Perform element-wise multiplication between two arrays of the same shape."
   ]
  },
  {
   "cell_type": "code",
   "execution_count": 70,
   "id": "f38f6069",
   "metadata": {},
   "outputs": [],
   "source": [
    "arr1 = np.random.randint(1,50,(3,3))\n",
    "arr2 = np.random.randint(1,20, (3,3))"
   ]
  },
  {
   "cell_type": "code",
   "execution_count": 73,
   "id": "8450bd1d",
   "metadata": {},
   "outputs": [
    {
     "name": "stdout",
     "output_type": "stream",
     "text": [
      "[[ 45 282 374]\n",
      " [369 720  28]\n",
      " [304  30 555]]\n"
     ]
    }
   ],
   "source": [
    "multiplied_array = arr1*arr2\n",
    "print(multiplied_array)"
   ]
  },
  {
   "cell_type": "markdown",
   "id": "e249d2be",
   "metadata": {},
   "source": [
    "#### 10 - Given an array of heights in centimeters, convert them to inches (1 inch = 2.54 cm)."
   ]
  },
  {
   "cell_type": "code",
   "execution_count": 76,
   "id": "ac08931f",
   "metadata": {},
   "outputs": [
    {
     "name": "stdout",
     "output_type": "stream",
     "text": [
      "Height in inches: [62.99212598 66.92913386 70.86614173 74.80314961]\n"
     ]
    }
   ],
   "source": [
    "height_in_cm = np.array([160, 170, 180, 190])\n",
    "# convert height in inch \n",
    "\n",
    "height_in_inch=height_in_cm/2.54\n",
    "\n",
    "print(f'Height in inches: {height_in_inch}')"
   ]
  },
  {
   "cell_type": "markdown",
   "id": "162ab393",
   "metadata": {},
   "source": [
    "#### 11 - Create a 1D array of numbers from 0 to 9. Replace all odd numbers with -1."
   ]
  },
  {
   "cell_type": "code",
   "execution_count": 78,
   "id": "8f9b0798",
   "metadata": {},
   "outputs": [
    {
     "data": {
      "text/plain": [
       "array([0, 1, 2, 3, 4, 5, 6, 7, 8, 9])"
      ]
     },
     "execution_count": 78,
     "metadata": {},
     "output_type": "execute_result"
    }
   ],
   "source": [
    "arr_0_9 = np.arange(10)\n",
    "arr_0_9"
   ]
  },
  {
   "cell_type": "code",
   "execution_count": 82,
   "id": "2c9a644f",
   "metadata": {},
   "outputs": [
    {
     "name": "stdout",
     "output_type": "stream",
     "text": [
      "[ 0 -1  2 -1  4 -1  6 -1  8 -1]\n"
     ]
    }
   ],
   "source": [
    "arr_0_9[arr_0_9 % 2 != 0] = -1\n",
    "print(arr_0_9)"
   ]
  },
  {
   "cell_type": "markdown",
   "id": "55fbac2e",
   "metadata": {},
   "source": [
    "#### Create a 2D array with random values and find the indices of the maximum and minimum values."
   ]
  },
  {
   "cell_type": "code",
   "execution_count": 92,
   "id": "1d76b287",
   "metadata": {},
   "outputs": [],
   "source": [
    "arr_2d = np.random.randint(10,101, (3,5))"
   ]
  },
  {
   "cell_type": "code",
   "execution_count": 99,
   "id": "0b900727",
   "metadata": {},
   "outputs": [
    {
     "name": "stdout",
     "output_type": "stream",
     "text": [
      "index of maximum number (1, 0) /n index of minium number (1, 2)\n"
     ]
    }
   ],
   "source": [
    "arr_2d"
   ]
  },
  {
   "cell_type": "code",
   "execution_count": 100,
   "id": "666bc44d",
   "metadata": {},
   "outputs": [
    {
     "name": "stdout",
     "output_type": "stream",
     "text": [
      "index of maximum number (1, 0) /n index of minium number (1, 2)\n"
     ]
    }
   ],
   "source": [
    "max_index = np.unravel_index(np.argmax(arr_2d), arr_2d.shape)\n",
    "min_index = np.unravel_index(np.argmin(arr_2d), arr_2d.shape) \n",
    "print(f'index of maximum number {max_index} /n index of minium number {min_index}')"
   ]
  },
  {
   "cell_type": "code",
   "execution_count": null,
   "id": "50017efa",
   "metadata": {},
   "outputs": [],
   "source": []
  }
 ],
 "metadata": {
  "kernelspec": {
   "display_name": "Python 3 (ipykernel)",
   "language": "python",
   "name": "python3"
  },
  "language_info": {
   "codemirror_mode": {
    "name": "ipython",
    "version": 3
   },
   "file_extension": ".py",
   "mimetype": "text/x-python",
   "name": "python",
   "nbconvert_exporter": "python",
   "pygments_lexer": "ipython3",
   "version": "3.11.4"
  }
 },
 "nbformat": 4,
 "nbformat_minor": 5
}
